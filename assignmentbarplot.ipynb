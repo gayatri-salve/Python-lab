{
 "cells": [
  {
   "cell_type": "code",
   "execution_count": null,
   "id": "aaba5ce2-dac4-4139-b4d9-52a7fd82df01",
   "metadata": {},
   "outputs": [],
   "source": []
  }
 ],
 "metadata": {
  "kernelspec": {
   "display_name": "",
   "name": ""
  },
  "language_info": {
   "name": ""
  }
 },
 "nbformat": 4,
 "nbformat_minor": 5
}
